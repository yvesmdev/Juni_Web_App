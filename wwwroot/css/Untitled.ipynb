{
 "cells": [
  {
   "cell_type": "code",
   "execution_count": 3,
   "id": "248eda00",
   "metadata": {},
   "outputs": [],
   "source": [
    "fh = open(\"main.css\",\"r\")\n",
    "fh_w = open(\"main_formatted.css\",\"w\")\n",
    "\n",
    "str_in = fh.read()\n",
    "str_in = str_in.replace('}','}\\n\\n');\n",
    "\n",
    "fh_w.write(str_in)\n",
    "fh.close()\n",
    "fh_w.close()"
   ]
  },
  {
   "cell_type": "code",
   "execution_count": null,
   "id": "78fdf384",
   "metadata": {},
   "outputs": [],
   "source": []
  }
 ],
 "metadata": {
  "kernelspec": {
   "display_name": "Python 3 (ipykernel)",
   "language": "python",
   "name": "python3"
  },
  "language_info": {
   "codemirror_mode": {
    "name": "ipython",
    "version": 3
   },
   "file_extension": ".py",
   "mimetype": "text/x-python",
   "name": "python",
   "nbconvert_exporter": "python",
   "pygments_lexer": "ipython3",
   "version": "3.9.12"
  }
 },
 "nbformat": 4,
 "nbformat_minor": 5
}
